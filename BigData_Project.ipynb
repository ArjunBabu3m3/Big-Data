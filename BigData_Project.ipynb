{
  "nbformat": 4,
  "nbformat_minor": 0,
  "metadata": {
    "accelerator": "TPU",
    "colab": {
      "name": "BigData_Project.ipynb",
      "provenance": [],
      "collapsed_sections": [],
      "include_colab_link": true
    },
    "kernelspec": {
      "display_name": "Python 3",
      "language": "python",
      "name": "python3"
    },
    "language_info": {
      "codemirror_mode": {
        "name": "ipython",
        "version": 3
      },
      "file_extension": ".py",
      "mimetype": "text/x-python",
      "name": "python",
      "nbconvert_exporter": "python",
      "pygments_lexer": "ipython3",
      "version": "3.7.3"
    }
  },
  "cells": [
    {
      "cell_type": "markdown",
      "metadata": {
        "id": "view-in-github",
        "colab_type": "text"
      },
      "source": [
        "<a href=\"https://colab.research.google.com/github/ArjunBabu3m3/Big-Data/blob/master/BigData_Project.ipynb\" target=\"_parent\"><img src=\"https://colab.research.google.com/assets/colab-badge.svg\" alt=\"Open In Colab\"/></a>"
      ]
    },
    {
      "cell_type": "code",
      "metadata": {
        "colab_type": "code",
        "id": "FqpH9a6aY3Ed",
        "outputId": "a3568d52-e800-4f3b-c472-97c90892ba35",
        "colab": {
          "base_uri": "https://localhost:8080/",
          "height": 122
        }
      },
      "source": [
        "from google.colab import drive\n",
        "drive.mount('/content/drive')"
      ],
      "execution_count": 0,
      "outputs": [
        {
          "output_type": "stream",
          "text": [
            "Go to this URL in a browser: https://accounts.google.com/o/oauth2/auth?client_id=947318989803-6bn6qk8qdgf4n4g3pfee6491hc0brc4i.apps.googleusercontent.com&redirect_uri=urn%3aietf%3awg%3aoauth%3a2.0%3aoob&response_type=code&scope=email%20https%3a%2f%2fwww.googleapis.com%2fauth%2fdocs.test%20https%3a%2f%2fwww.googleapis.com%2fauth%2fdrive%20https%3a%2f%2fwww.googleapis.com%2fauth%2fdrive.photos.readonly%20https%3a%2f%2fwww.googleapis.com%2fauth%2fpeopleapi.readonly\n",
            "\n",
            "Enter your authorization code:\n",
            "··········\n",
            "Mounted at /content/drive\n"
          ],
          "name": "stdout"
        }
      ]
    },
    {
      "cell_type": "code",
      "metadata": {
        "colab_type": "code",
        "id": "6JFpYD4zY4np",
        "colab": {}
      },
      "source": [
        "# Install Java JDK\n",
        "!apt-get install openjdk-8-jdk-headless -qq > /dev/null\n",
        "\n",
        "# Download Spark\n",
        "!wget -q http://apache.mirrors.pair.com/spark/spark-2.4.5/spark-2.4.5-bin-hadoop2.7.tgz\n",
        "\n",
        "# Untar the zip file\n",
        "!tar -xvf spark-2.4.5-bin-hadoop2.7.tgz"
      ],
      "execution_count": 0,
      "outputs": []
    },
    {
      "cell_type": "code",
      "metadata": {
        "colab_type": "code",
        "id": "pS76umvvY_d0",
        "outputId": "e5273e52-891b-487b-a00d-6a9e84dda22b",
        "colab": {
          "base_uri": "https://localhost:8080/",
          "height": 204
        }
      },
      "source": [
        "# Importing the MovieLens dataset\n",
        "!wget http://files.grouplens.org/datasets/movielens/ml-latest.zip"
      ],
      "execution_count": 0,
      "outputs": [
        {
          "output_type": "stream",
          "text": [
            "--2020-05-07 22:52:15--  http://files.grouplens.org/datasets/movielens/ml-latest.zip\n",
            "Resolving files.grouplens.org (files.grouplens.org)... 128.101.65.152\n",
            "Connecting to files.grouplens.org (files.grouplens.org)|128.101.65.152|:80... connected.\n",
            "HTTP request sent, awaiting response... 200 OK\n",
            "Length: 277113433 (264M) [application/zip]\n",
            "Saving to: ‘ml-latest.zip.1’\n",
            "\n",
            "ml-latest.zip.1     100%[===================>] 264.28M   115MB/s    in 2.3s    \n",
            "\n",
            "2020-05-07 22:52:18 (115 MB/s) - ‘ml-latest.zip.1’ saved [277113433/277113433]\n",
            "\n"
          ],
          "name": "stdout"
        }
      ]
    },
    {
      "cell_type": "code",
      "metadata": {
        "colab_type": "code",
        "id": "lx5FC_ikZbL3",
        "colab": {}
      },
      "source": [
        "# Unzip the file\n",
        "!unzip ml-latest.zip"
      ],
      "execution_count": 0,
      "outputs": []
    },
    {
      "cell_type": "code",
      "metadata": {
        "colab_type": "code",
        "id": "maCEdbS7ZfsL",
        "colab": {}
      },
      "source": [
        "# Install findspark\n",
        "!pip install -q findspark\n",
        "\n",
        "# Setup environment variables\n",
        "import os\n",
        "os.environ[\"JAVA_HOME\"] = \"/usr/lib/jvm/java-8-openjdk-amd64\"\n",
        "os.environ[\"SPARK_HOME\"] = \"/content/spark-2.4.5-bin-hadoop2.7\"\n",
        "\n",
        "# Spark Session Initialization\n",
        "import findspark\n",
        "findspark.init()\n",
        "from pyspark.sql import SparkSession\n",
        "spark = SparkSession.builder.master(\"local[*]\").getOrCreate()"
      ],
      "execution_count": 0,
      "outputs": []
    },
    {
      "cell_type": "code",
      "metadata": {
        "colab_type": "code",
        "id": "0BKyvrSv4nmS",
        "colab": {}
      },
      "source": [
        "# Mention the Path of the u.data file\n",
        "pathToFile ='/content/ml-latest/ratings.csv'\n",
        "\n",
        "# Read the data file\n"
      ],
      "execution_count": 0,
      "outputs": []
    },
    {
      "cell_type": "code",
      "metadata": {
        "id": "AAbiYShHhjwx",
        "colab_type": "code",
        "colab": {}
      },
      "source": [
        "data1 = spark.read.format('com.databricks.spark.csv').\\\n",
        "                               options(header='true', \\\n",
        "                               inferschema='true').\\\n",
        "                load(pathToFile,header=True)"
      ],
      "execution_count": 0,
      "outputs": []
    },
    {
      "cell_type": "code",
      "metadata": {
        "colab_type": "code",
        "id": "vWJvjwdOBJBR",
        "outputId": "e300a174-2133-43b2-8fd0-69ad263a4ade",
        "colab": {
          "base_uri": "https://localhost:8080/",
          "height": 119
        }
      },
      "source": [
        "# print the schema \n",
        "data1.printSchema()"
      ],
      "execution_count": 0,
      "outputs": [
        {
          "output_type": "stream",
          "text": [
            "root\n",
            " |-- userId: integer (nullable = true)\n",
            " |-- movieId: integer (nullable = true)\n",
            " |-- rating: double (nullable = true)\n",
            " |-- timestamp: integer (nullable = true)\n",
            "\n"
          ],
          "name": "stdout"
        }
      ]
    },
    {
      "cell_type": "code",
      "metadata": {
        "colab_type": "code",
        "id": "1aNxjJoxNrrj",
        "outputId": "ec3ebe05-1fae-45f2-993b-3ad974d49664",
        "colab": {
          "base_uri": "https://localhost:8080/",
          "height": 459
        }
      },
      "source": [
        "#Check the first 20 rows of the data\n",
        "data1.show()"
      ],
      "execution_count": 0,
      "outputs": [
        {
          "output_type": "stream",
          "text": [
            "+------+-------+------+----------+\n",
            "|userId|movieId|rating| timestamp|\n",
            "+------+-------+------+----------+\n",
            "|     1|    307|   3.5|1256677221|\n",
            "|     1|    481|   3.5|1256677456|\n",
            "|     1|   1091|   1.5|1256677471|\n",
            "|     1|   1257|   4.5|1256677460|\n",
            "|     1|   1449|   4.5|1256677264|\n",
            "|     1|   1590|   2.5|1256677236|\n",
            "|     1|   1591|   1.5|1256677475|\n",
            "|     1|   2134|   4.5|1256677464|\n",
            "|     1|   2478|   4.0|1256677239|\n",
            "|     1|   2840|   3.0|1256677500|\n",
            "|     1|   2986|   2.5|1256677496|\n",
            "|     1|   3020|   4.0|1256677260|\n",
            "|     1|   3424|   4.5|1256677444|\n",
            "|     1|   3698|   3.5|1256677243|\n",
            "|     1|   3826|   2.0|1256677210|\n",
            "|     1|   3893|   3.5|1256677486|\n",
            "|     2|    170|   3.5|1192913581|\n",
            "|     2|    849|   3.5|1192913537|\n",
            "|     2|   1186|   3.5|1192913611|\n",
            "|     2|   1235|   3.0|1192913585|\n",
            "+------+-------+------+----------+\n",
            "only showing top 20 rows\n",
            "\n"
          ],
          "name": "stdout"
        }
      ]
    },
    {
      "cell_type": "code",
      "metadata": {
        "colab_type": "code",
        "id": "HoBonKeFJjOd",
        "outputId": "ffa0b5da-de4f-4563-ba76-5523b490bbb8",
        "colab": {
          "base_uri": "https://localhost:8080/",
          "height": 102
        }
      },
      "source": [
        "# We do not require timestamp column, so dropping it\n",
        "data2 = data1.drop(\"timestamp\")\n",
        "\n",
        "#print the schema now and check that timestamp column is dropped\n",
        "data2.printSchema()"
      ],
      "execution_count": 0,
      "outputs": [
        {
          "output_type": "stream",
          "text": [
            "root\n",
            " |-- userId: integer (nullable = true)\n",
            " |-- movieId: integer (nullable = true)\n",
            " |-- rating: double (nullable = true)\n",
            "\n"
          ],
          "name": "stdout"
        }
      ]
    },
    {
      "cell_type": "code",
      "metadata": {
        "colab_type": "code",
        "id": "NQW61HIDy1p9",
        "colab": {}
      },
      "source": [
        "from pyspark.ml.evaluation import RegressionEvaluator\n",
        "from pyspark.ml.recommendation import ALS"
      ],
      "execution_count": 0,
      "outputs": []
    },
    {
      "cell_type": "code",
      "metadata": {
        "colab_type": "code",
        "id": "jus-nSsly8_6",
        "colab": {}
      },
      "source": [
        "# Randomly split the data into train and test where 80% data is in train and remaining is test\n",
        "train, test = data2.randomSplit([0.8, 0.2])"
      ],
      "execution_count": 0,
      "outputs": []
    },
    {
      "cell_type": "code",
      "metadata": {
        "colab_type": "code",
        "id": "3eBqFBVKzBPb",
        "colab": {}
      },
      "source": [
        "# Build a recommendation model using Alternating Least Squares\n",
        "#als = ALS(userCol=\"userId\", itemCol=\"movieId\", ratingCol=\"rating\", nonnegative=True)\n",
        "#model = als.fit(train)"
      ],
      "execution_count": 0,
      "outputs": []
    },
    {
      "cell_type": "code",
      "metadata": {
        "colab_type": "code",
        "id": "AVl-I4OFOcfG",
        "outputId": "884ae19f-6c5c-4d71-96d0-654d5a22d95e",
        "colab": {
          "base_uri": "https://localhost:8080/",
          "height": 34
        }
      },
      "source": [
        "# Build a recommendation model using Alternating Least Squares\n",
        "# Evaluate the model by computing the RMSE on the test data\n",
        "model = ALS(userCol=\"userId\", itemCol=\"movieId\", ratingCol=\"rating\", nonnegative=True, coldStartStrategy=\"drop\").fit(train)\n",
        "from pyspark.ml.evaluation import RegressionEvaluator\n",
        "evaluator=RegressionEvaluator(metricName=\"rmse\",labelCol=\"rating\",predictionCol=\"prediction\")\n",
        "predictions=model.transform(test)\n",
        "rmse=evaluator.evaluate(predictions)\n",
        "\n",
        "# print the RMSE\n",
        "print(\"New RMSE: \", evaluator.evaluate(model.transform(test)))"
      ],
      "execution_count": 0,
      "outputs": [
        {
          "output_type": "stream",
          "text": [
            "New RMSE:  0.8226236096293528\n"
          ],
          "name": "stdout"
        }
      ]
    },
    {
      "cell_type": "markdown",
      "metadata": {
        "id": "MRBT1I-K89G4",
        "colab_type": "text"
      },
      "source": [
        "Trying to save the model using pickle(Dint work)"
      ]
    },
    {
      "cell_type": "code",
      "metadata": {
        "id": "vCV-w-t57b2b",
        "colab_type": "code",
        "colab": {}
      },
      "source": [
        "#import pickle"
      ],
      "execution_count": 0,
      "outputs": []
    },
    {
      "cell_type": "code",
      "metadata": {
        "id": "azCgwc-6yuOP",
        "colab_type": "code",
        "colab": {}
      },
      "source": [
        "#filename = 'model.sav'\n",
        "#pickle.dump(model, open(filename, 'wb'))"
      ],
      "execution_count": 0,
      "outputs": []
    },
    {
      "cell_type": "code",
      "metadata": {
        "id": "QSWQQrak8TOP",
        "colab_type": "code",
        "colab": {}
      },
      "source": [
        "#loaded_model = pickle.load(open(filename, 'rb'))\n",
        "#result = loaded_model.score(X_test, Y_test)\n",
        "#print(result)"
      ],
      "execution_count": 0,
      "outputs": []
    },
    {
      "cell_type": "code",
      "metadata": {
        "colab_type": "code",
        "id": "IVPTVx0-J0XB",
        "colab": {}
      },
      "source": [
        "from pyspark.ml.tuning import CrossValidator\n",
        "from pyspark.ml.tuning import ParamGridBuilder\n",
        "\n",
        "# Now we try to improve the performance of the original model using cross validation and solve the cold-start problem.\n",
        "# we set cold start strategy to 'drop' to ensure we don't get NaN evaluation metrics\n",
        "\n",
        "model = ALS(userCol=\"userId\", itemCol=\"movieId\", ratingCol=\"rating\", nonnegative = True, coldStartStrategy=\"drop\")\n",
        "\n",
        "# We use a ParamGridBuilder to construct a grid of parameters to search over.\n",
        "paramGrid = ParamGridBuilder() \\\n",
        "    .addGrid(model.regParam, [0.1, 0.01, 0.001]) \\\n",
        "    .addGrid(model.rank, [5, 10, 15]) \\\n",
        "    .build()\n",
        "\n",
        "# Define a cross-validator object\n",
        "# A CrossValidator requires an Estimator, a set of Estimator ParamMaps, and an Evaluator.\n",
        "crossvalidation = CrossValidator(estimator = model,\n",
        "                     estimatorParamMaps = paramGrid,\n",
        "                     evaluator = evaluator,\n",
        "                     numFolds=5)"
      ],
      "execution_count": 0,
      "outputs": []
    },
    {
      "cell_type": "code",
      "metadata": {
        "colab_type": "code",
        "id": "Br3g_QqxKNjG",
        "colab": {}
      },
      "source": [
        "# Run cross-validation, and choose the best set of parameters.\n",
        "Best_model = crossvalidation.fit(train).bestModel"
      ],
      "execution_count": 0,
      "outputs": []
    },
    {
      "cell_type": "code",
      "metadata": {
        "colab_type": "code",
        "id": "edNlgVDLKQA5",
        "outputId": "67bcc634-cdae-4fc0-d6d2-2f41abf47c80",
        "colab": {
          "base_uri": "https://localhost:8080/",
          "height": 34
        }
      },
      "source": [
        "# Calculate the RMSE on test data using the best set of parameters obtained after cross validation\n",
        "print(\"Best RMSE value is: \", evaluator.evaluate(Best_model.transform(test)))"
      ],
      "execution_count": 0,
      "outputs": [
        {
          "output_type": "stream",
          "text": [
            "Best RMSE value is:  0.8231774775983364\n"
          ],
          "name": "stdout"
        }
      ]
    },
    {
      "cell_type": "code",
      "metadata": {
        "colab_type": "code",
        "id": "vsKMdfrhUGKF",
        "colab": {}
      },
      "source": [
        "# Now there is an improvement in the performance and we can see that RMSE value is 0.9218"
      ],
      "execution_count": 0,
      "outputs": []
    },
    {
      "cell_type": "code",
      "metadata": {
        "colab_type": "code",
        "id": "_1UDznECKR2Z",
        "outputId": "d231cb6b-106a-4694-fce7-c86bfe903328",
        "colab": {
          "base_uri": "https://localhost:8080/",
          "height": 459
        }
      },
      "source": [
        "# Get top 10 movie recommendations for all users\n",
        "movie_recommendation = Best_model.recommendForAllUsers(10)\n",
        "movie_recommendation.show()\n",
        "import pandas as pd\n",
        "movie_recommendation = movie_recommendation.toPandas()"
      ],
      "execution_count": 0,
      "outputs": [
        {
          "output_type": "stream",
          "text": [
            "+------+--------------------+\n",
            "|userId|     recommendations|\n",
            "+------+--------------------+\n",
            "|   148|[[185659, 5.65381...|\n",
            "|   463|[[151989, 3.72915...|\n",
            "|   471|[[177209, 5.15297...|\n",
            "|   496|[[185659, 5.62696...|\n",
            "|   833|[[151989, 4.75969...|\n",
            "|  1088|[[185659, 5.40584...|\n",
            "|  1238|[[185659, 3.78415...|\n",
            "|  1342|[[126737, 3.06373...|\n",
            "|  1580|[[185659, 6.23385...|\n",
            "|  1591|[[185659, 6.31438...|\n",
            "|  1645|[[185659, 6.54202...|\n",
            "|  1829|[[185659, 7.08875...|\n",
            "|  1959|[[151989, 6.04134...|\n",
            "|  2122|[[185659, 5.71250...|\n",
            "|  2142|[[188923, 6.47613...|\n",
            "|  2366|[[185659, 6.90093...|\n",
            "|  2659|[[151989, 4.99159...|\n",
            "|  2866|[[177209, 6.79304...|\n",
            "|  3175|[[177209, 2.82178...|\n",
            "|  3749|[[183947, 6.16469...|\n",
            "+------+--------------------+\n",
            "only showing top 20 rows\n",
            "\n"
          ],
          "name": "stdout"
        }
      ]
    },
    {
      "cell_type": "code",
      "metadata": {
        "colab_type": "code",
        "id": "ROlMvUQYkKlj",
        "colab": {}
      },
      "source": [
        "users = []\n",
        "recommendations = []\n",
        "\n",
        "# For the entire data iterate \n",
        "for i in range(len(movie_recommendation)):\n",
        "\n",
        "  # First we add user_id to the list\n",
        "  users.append(movie_recommendation.iloc[i,0])\n",
        "  user_recs = \"\" \n",
        "\n",
        "  # Fetching only the item ID's from the recommendations\n",
        "  for item in movie_recommendation.iloc[i,1]:\n",
        "     user_recs = user_recs + \", \" + str(item.asDict()[\"movieId\"])\n",
        "\n",
        "  # Append the itemID's to a list\n",
        "  recommendations.append(user_recs[2:])\n",
        "\n",
        "#Convert to dataframe\n",
        "recommendations_df = pd.DataFrame(data = zip(users, recommendations), columns=[\"user\", \"MovieID\"])"
      ],
      "execution_count": 0,
      "outputs": []
    },
    {
      "cell_type": "code",
      "metadata": {
        "colab_type": "code",
        "id": "axf0OX_BkMqe",
        "outputId": "57197f72-f7b0-4bf2-9d77-853ef2e1f12c",
        "colab": {
          "base_uri": "https://localhost:8080/",
          "height": 359
        }
      },
      "source": [
        "#Check the users and the top 10 movie recommendations for the first 10 users\n",
        "recommendations_df.head(10)"
      ],
      "execution_count": 0,
      "outputs": [
        {
          "output_type": "execute_result",
          "data": {
            "text/html": [
              "<div>\n",
              "<style scoped>\n",
              "    .dataframe tbody tr th:only-of-type {\n",
              "        vertical-align: middle;\n",
              "    }\n",
              "\n",
              "    .dataframe tbody tr th {\n",
              "        vertical-align: top;\n",
              "    }\n",
              "\n",
              "    .dataframe thead th {\n",
              "        text-align: right;\n",
              "    }\n",
              "</style>\n",
              "<table border=\"1\" class=\"dataframe\">\n",
              "  <thead>\n",
              "    <tr style=\"text-align: right;\">\n",
              "      <th></th>\n",
              "      <th>user</th>\n",
              "      <th>MovieID</th>\n",
              "    </tr>\n",
              "  </thead>\n",
              "  <tbody>\n",
              "    <tr>\n",
              "      <th>0</th>\n",
              "      <td>148</td>\n",
              "      <td>185659, 151989, 3226, 177209, 155923, 187873, ...</td>\n",
              "    </tr>\n",
              "    <tr>\n",
              "      <th>1</th>\n",
              "      <td>463</td>\n",
              "      <td>151989, 185659, 101862, 142608, 166267, 135057...</td>\n",
              "    </tr>\n",
              "    <tr>\n",
              "      <th>2</th>\n",
              "      <td>471</td>\n",
              "      <td>177209, 151989, 185659, 190707, 159761, 144202...</td>\n",
              "    </tr>\n",
              "    <tr>\n",
              "      <th>3</th>\n",
              "      <td>496</td>\n",
              "      <td>185659, 151989, 177209, 66389, 183947, 173737,...</td>\n",
              "    </tr>\n",
              "    <tr>\n",
              "      <th>4</th>\n",
              "      <td>833</td>\n",
              "      <td>151989, 178147, 121919, 101706, 190707, 184299...</td>\n",
              "    </tr>\n",
              "    <tr>\n",
              "      <th>5</th>\n",
              "      <td>1088</td>\n",
              "      <td>185659, 94339, 177209, 152711, 178147, 121919,...</td>\n",
              "    </tr>\n",
              "    <tr>\n",
              "      <th>6</th>\n",
              "      <td>1238</td>\n",
              "      <td>185659, 151989, 66811, 125279, 135735, 193253,...</td>\n",
              "    </tr>\n",
              "    <tr>\n",
              "      <th>7</th>\n",
              "      <td>1342</td>\n",
              "      <td>126737, 149570, 8945, 163781, 84996, 99724, 91...</td>\n",
              "    </tr>\n",
              "    <tr>\n",
              "      <th>8</th>\n",
              "      <td>1580</td>\n",
              "      <td>185659, 177209, 183947, 151989, 159761, 157791...</td>\n",
              "    </tr>\n",
              "    <tr>\n",
              "      <th>9</th>\n",
              "      <td>1591</td>\n",
              "      <td>185659, 177209, 151989, 117352, 178147, 121919...</td>\n",
              "    </tr>\n",
              "  </tbody>\n",
              "</table>\n",
              "</div>"
            ],
            "text/plain": [
              "   user                                            MovieID\n",
              "0   148  185659, 151989, 3226, 177209, 155923, 187873, ...\n",
              "1   463  151989, 185659, 101862, 142608, 166267, 135057...\n",
              "2   471  177209, 151989, 185659, 190707, 159761, 144202...\n",
              "3   496  185659, 151989, 177209, 66389, 183947, 173737,...\n",
              "4   833  151989, 178147, 121919, 101706, 190707, 184299...\n",
              "5  1088  185659, 94339, 177209, 152711, 178147, 121919,...\n",
              "6  1238  185659, 151989, 66811, 125279, 135735, 193253,...\n",
              "7  1342  126737, 149570, 8945, 163781, 84996, 99724, 91...\n",
              "8  1580  185659, 177209, 183947, 151989, 159761, 157791...\n",
              "9  1591  185659, 177209, 151989, 117352, 178147, 121919..."
            ]
          },
          "metadata": {
            "tags": []
          },
          "execution_count": 18
        }
      ]
    },
    {
      "cell_type": "code",
      "metadata": {
        "colab_type": "code",
        "id": "H5aGAzrUkNGs",
        "colab": {}
      },
      "source": [
        "#write to a text file\n",
        "recommendations_df.to_csv('/content/recommendation_project.txt', sep='\\t', index=False)"
      ],
      "execution_count": 0,
      "outputs": []
    }
  ]
}